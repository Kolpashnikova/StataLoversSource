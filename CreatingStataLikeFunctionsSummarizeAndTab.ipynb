{
 "cells": [
  {
   "cell_type": "code",
   "execution_count": 1,
   "id": "2161c78f",
   "metadata": {},
   "outputs": [],
   "source": [
    "import pandas as pd"
   ]
  },
  {
   "cell_type": "code",
   "execution_count": 2,
   "id": "e30351a9",
   "metadata": {},
   "outputs": [
    {
     "name": "stderr",
     "output_type": "stream",
     "text": [
      "/Users/kamilakolpashnikova/opt/anaconda3/lib/python3.8/site-packages/pandas/io/stata.py:1417: UnicodeWarning: \n",
      "One or more strings in the dta file could not be decoded using utf-8, and\n",
      "so the fallback encoding of latin-1 is being used.  This can happen when a file\n",
      "has been incorrectly encoded by Stata or some other software. You should verify\n",
      "the string values returned are correct.\n",
      "  warnings.warn(msg, UnicodeWarning)\n"
     ]
    }
   ],
   "source": [
    "df = pd.read_stata(\"/Users/kamilakolpashnikova/OneDrive - Nexus365/Data files/ELSA/UKDA-5050-stata/stata/ELSA3to8.dta\")"
   ]
  },
  {
   "cell_type": "code",
   "execution_count": 3,
   "id": "2b2fab1c",
   "metadata": {},
   "outputs": [
    {
     "data": {
      "text/html": [
       "<div>\n",
       "<style scoped>\n",
       "    .dataframe tbody tr th:only-of-type {\n",
       "        vertical-align: middle;\n",
       "    }\n",
       "\n",
       "    .dataframe tbody tr th {\n",
       "        vertical-align: top;\n",
       "    }\n",
       "\n",
       "    .dataframe thead th {\n",
       "        text-align: right;\n",
       "    }\n",
       "</style>\n",
       "<table border=\"1\" class=\"dataframe\">\n",
       "  <thead>\n",
       "    <tr style=\"text-align: right;\">\n",
       "      <th></th>\n",
       "      <th>idauniq</th>\n",
       "      <th>Female</th>\n",
       "      <th>EduInYears</th>\n",
       "      <th>H1</th>\n",
       "      <th>H2</th>\n",
       "      <th>H3</th>\n",
       "      <th>Health</th>\n",
       "      <th>smoked</th>\n",
       "      <th>drinked</th>\n",
       "      <th>Age</th>\n",
       "      <th>...</th>\n",
       "      <th>Hip1</th>\n",
       "      <th>Hip2</th>\n",
       "      <th>Hip3</th>\n",
       "      <th>Hip</th>\n",
       "      <th>Morb</th>\n",
       "      <th>Multimorb</th>\n",
       "      <th>AG</th>\n",
       "      <th>HouseholdYear</th>\n",
       "      <th>Region</th>\n",
       "      <th>BirthYear</th>\n",
       "    </tr>\n",
       "  </thead>\n",
       "  <tbody>\n",
       "    <tr>\n",
       "      <th>0</th>\n",
       "      <td>100001</td>\n",
       "      <td>0</td>\n",
       "      <td>0.0</td>\n",
       "      <td>3.0</td>\n",
       "      <td>3.0</td>\n",
       "      <td>4.0</td>\n",
       "      <td>3.333333</td>\n",
       "      <td>NaN</td>\n",
       "      <td>NaN</td>\n",
       "      <td>54</td>\n",
       "      <td>...</td>\n",
       "      <td>-1</td>\n",
       "      <td>0</td>\n",
       "      <td>0</td>\n",
       "      <td>0.0</td>\n",
       "      <td>0.0</td>\n",
       "      <td>0.0</td>\n",
       "      <td>1.0</td>\n",
       "      <td>15553.0</td>\n",
       "      <td>H</td>\n",
       "      <td>1951.0</td>\n",
       "    </tr>\n",
       "    <tr>\n",
       "      <th>1</th>\n",
       "      <td>100007</td>\n",
       "      <td>0</td>\n",
       "      <td>11.0</td>\n",
       "      <td>1.0</td>\n",
       "      <td>4.0</td>\n",
       "      <td>4.0</td>\n",
       "      <td>3.000000</td>\n",
       "      <td>NaN</td>\n",
       "      <td>1.0</td>\n",
       "      <td>58</td>\n",
       "      <td>...</td>\n",
       "      <td>-1</td>\n",
       "      <td>0</td>\n",
       "      <td>0</td>\n",
       "      <td>0.0</td>\n",
       "      <td>3.0</td>\n",
       "      <td>1.0</td>\n",
       "      <td>1.0</td>\n",
       "      <td>14930.0</td>\n",
       "      <td>F</td>\n",
       "      <td>1948.0</td>\n",
       "    </tr>\n",
       "    <tr>\n",
       "      <th>2</th>\n",
       "      <td>100009</td>\n",
       "      <td>0</td>\n",
       "      <td>0.0</td>\n",
       "      <td>4.0</td>\n",
       "      <td>4.0</td>\n",
       "      <td>4.0</td>\n",
       "      <td>4.000000</td>\n",
       "      <td>1.0</td>\n",
       "      <td>0.0</td>\n",
       "      <td>66</td>\n",
       "      <td>...</td>\n",
       "      <td>0</td>\n",
       "      <td>0</td>\n",
       "      <td>0</td>\n",
       "      <td>0.0</td>\n",
       "      <td>0.0</td>\n",
       "      <td>0.0</td>\n",
       "      <td>2.0</td>\n",
       "      <td>13922.0</td>\n",
       "      <td>K</td>\n",
       "      <td>1940.0</td>\n",
       "    </tr>\n",
       "    <tr>\n",
       "      <th>3</th>\n",
       "      <td>100012</td>\n",
       "      <td>0</td>\n",
       "      <td>12.0</td>\n",
       "      <td>2.0</td>\n",
       "      <td>3.0</td>\n",
       "      <td>4.0</td>\n",
       "      <td>3.000000</td>\n",
       "      <td>NaN</td>\n",
       "      <td>1.0</td>\n",
       "      <td>58</td>\n",
       "      <td>...</td>\n",
       "      <td>-1</td>\n",
       "      <td>0</td>\n",
       "      <td>0</td>\n",
       "      <td>0.0</td>\n",
       "      <td>0.0</td>\n",
       "      <td>0.0</td>\n",
       "      <td>1.0</td>\n",
       "      <td>13218.0</td>\n",
       "      <td>D</td>\n",
       "      <td>1947.0</td>\n",
       "    </tr>\n",
       "    <tr>\n",
       "      <th>4</th>\n",
       "      <td>100016</td>\n",
       "      <td>1</td>\n",
       "      <td>NaN</td>\n",
       "      <td>NaN</td>\n",
       "      <td>NaN</td>\n",
       "      <td>NaN</td>\n",
       "      <td>NaN</td>\n",
       "      <td>NaN</td>\n",
       "      <td>NaN</td>\n",
       "      <td>55</td>\n",
       "      <td>...</td>\n",
       "      <td>-1</td>\n",
       "      <td>0</td>\n",
       "      <td>0</td>\n",
       "      <td>0.0</td>\n",
       "      <td>0.0</td>\n",
       "      <td>0.0</td>\n",
       "      <td>1.0</td>\n",
       "      <td>14068.0</td>\n",
       "      <td>G</td>\n",
       "      <td>-8.0</td>\n",
       "    </tr>\n",
       "  </tbody>\n",
       "</table>\n",
       "<p>5 rows × 59 columns</p>\n",
       "</div>"
      ],
      "text/plain": [
       "   idauniq  Female  EduInYears   H1   H2   H3    Health  smoked  drinked  Age  \\\n",
       "0   100001       0         0.0  3.0  3.0  4.0  3.333333     NaN      NaN   54   \n",
       "1   100007       0        11.0  1.0  4.0  4.0  3.000000     NaN      1.0   58   \n",
       "2   100009       0         0.0  4.0  4.0  4.0  4.000000     1.0      0.0   66   \n",
       "3   100012       0        12.0  2.0  3.0  4.0  3.000000     NaN      1.0   58   \n",
       "4   100016       1         NaN  NaN  NaN  NaN       NaN     NaN      NaN   55   \n",
       "\n",
       "   ...  Hip1  Hip2  Hip3  Hip  Morb  Multimorb   AG  HouseholdYear  Region  \\\n",
       "0  ...    -1     0     0  0.0   0.0        0.0  1.0        15553.0       H   \n",
       "1  ...    -1     0     0  0.0   3.0        1.0  1.0        14930.0       F   \n",
       "2  ...     0     0     0  0.0   0.0        0.0  2.0        13922.0       K   \n",
       "3  ...    -1     0     0  0.0   0.0        0.0  1.0        13218.0       D   \n",
       "4  ...    -1     0     0  0.0   0.0        0.0  1.0        14068.0       G   \n",
       "\n",
       "   BirthYear  \n",
       "0     1951.0  \n",
       "1     1948.0  \n",
       "2     1940.0  \n",
       "3     1947.0  \n",
       "4       -8.0  \n",
       "\n",
       "[5 rows x 59 columns]"
      ]
     },
     "execution_count": 3,
     "metadata": {},
     "output_type": "execute_result"
    }
   ],
   "source": [
    "df.head()"
   ]
  },
  {
   "cell_type": "code",
   "execution_count": 4,
   "id": "a7ae501f",
   "metadata": {},
   "outputs": [
    {
     "data": {
      "text/plain": [
       "idauniq             int32\n",
       "Female               int8\n",
       "EduInYears        float64\n",
       "H1                float32\n",
       "H2                float32\n",
       "H3                float32\n",
       "Health            float32\n",
       "smoked            float64\n",
       "drinked           float64\n",
       "Age                  int8\n",
       "Married              int8\n",
       "Year              float32\n",
       "ID                float32\n",
       "Weight            float32\n",
       "HBP1                 int8\n",
       "HBP2              float64\n",
       "HBP               float32\n",
       "Diabetes1            int8\n",
       "Diabetes2            int8\n",
       "Diabetes          float32\n",
       "Arthritis1           int8\n",
       "Arthritis2        float64\n",
       "Arthritis         float32\n",
       "Osteo1               int8\n",
       "Osteo2            float64\n",
       "Osteo             float32\n",
       "HeartAttack1         int8\n",
       "HeartAttack2      float64\n",
       "HeartAttack       float32\n",
       "Stroke1              int8\n",
       "Stroke2           float64\n",
       "Stroke            float32\n",
       "Cancer1              int8\n",
       "Cancer2           float64\n",
       "Cancer            float32\n",
       "Lung1                int8\n",
       "Lung2             float64\n",
       "Lung              float32\n",
       "Parkinson1           int8\n",
       "Parkinson2        float64\n",
       "Parkinson         float32\n",
       "Dementia1            int8\n",
       "Dementia2         float64\n",
       "Dementia3            int8\n",
       "Dementia4         float64\n",
       "Dementia          float32\n",
       "Psychological1       int8\n",
       "Psychological2    float64\n",
       "Psychological     float32\n",
       "Hip1                 int8\n",
       "Hip2                 int8\n",
       "Hip3                 int8\n",
       "Hip               float32\n",
       "Morb              float32\n",
       "Multimorb         float32\n",
       "AG                float32\n",
       "HouseholdYear     float32\n",
       "Region             object\n",
       "BirthYear         float32\n",
       "dtype: object"
      ]
     },
     "execution_count": 4,
     "metadata": {},
     "output_type": "execute_result"
    }
   ],
   "source": [
    "df.dtypes"
   ]
  },
  {
   "cell_type": "code",
   "execution_count": 5,
   "id": "3a588903",
   "metadata": {},
   "outputs": [
    {
     "data": {
      "text/plain": [
       "count    59807.000000\n",
       "mean      1913.153564\n",
       "std        245.722961\n",
       "min         -8.000000\n",
       "25%       1937.000000\n",
       "50%       1946.000000\n",
       "75%       1952.000000\n",
       "max       1987.000000\n",
       "Name: BirthYear, dtype: float64"
      ]
     },
     "execution_count": 5,
     "metadata": {},
     "output_type": "execute_result"
    }
   ],
   "source": [
    "df.BirthYear.describe()"
   ]
  },
  {
   "cell_type": "code",
   "execution_count": 6,
   "id": "6c6d05c4",
   "metadata": {},
   "outputs": [
    {
     "name": "stdout",
     "output_type": "stream",
     "text": [
      "Object `summarize` not found.\n"
     ]
    }
   ],
   "source": [
    "summarize?"
   ]
  },
  {
   "cell_type": "code",
   "execution_count": 7,
   "id": "263a4873",
   "metadata": {},
   "outputs": [],
   "source": [
    "def summarize(vars, df):\n",
    "    '''\n",
    "    this function prints out descriptive statistics in the similar way that Stata function sum does.\n",
    "    Args:\n",
    "    pandas column of a df\n",
    "    Output: None (print out)\n",
    "    '''\n",
    "    num = max([len(i) for i in vars])\n",
    "    if num < 13:\n",
    "        num = 13\n",
    "    \n",
    "    print(\"{} |        Obs        Mean    Std. Dev.       Min        Max \".format('Variable'.rjust(num)))\n",
    "    print(\"{}-+----------------------------------------------------------\".format('-'*num))\n",
    "    \n",
    "    for var in vars:\n",
    "        temp = df[var].describe()\n",
    "        print(\"{} |{}{}{}{}{}\".format(var.rjust(num), round(temp['count'], 1).astype(str).rjust(11), \\\n",
    "                                     round(temp['mean'], 3).astype(str).rjust(12), \\\n",
    "                                     round(temp['std'], 3).astype(str).rjust(13), \\\n",
    "                                     round(temp['min'], 3).astype(str).rjust(11), \\\n",
    "                                     round(temp['max'], 3).astype(str).rjust(11) \\\n",
    "                                                           ))\n",
    "    "
   ]
  },
  {
   "cell_type": "code",
   "execution_count": 8,
   "id": "2ffd4492",
   "metadata": {},
   "outputs": [
    {
     "name": "stdout",
     "output_type": "stream",
     "text": [
      "     Variable |        Obs        Mean    Std. Dev.       Min        Max \n",
      "--------------+----------------------------------------------------------\n",
      "    BirthYear |    59807.0    1913.154      245.723       -8.0     1987.0\n",
      "         Year |    59807.0    2011.708        3.404     2006.0     2017.0\n",
      "      Married |    59807.0       0.717        0.451        0.0        1.0\n",
      "       Health |    59767.0       2.856        0.853        1.0        4.0\n"
     ]
    }
   ],
   "source": [
    "summarize([\"BirthYear\", \"Year\", \"Married\", \"Health\"], df)"
   ]
  },
  {
   "cell_type": "code",
   "execution_count": 9,
   "id": "0d61baa4",
   "metadata": {},
   "outputs": [
    {
     "name": "stdout",
     "output_type": "stream",
     "text": [
      "Object `tab` not found.\n"
     ]
    }
   ],
   "source": [
    "tab?"
   ]
  },
  {
   "cell_type": "code",
   "execution_count": 10,
   "id": "c8f0af6a",
   "metadata": {},
   "outputs": [],
   "source": [
    "def tab(var1, var2=None):\n",
    "    '''\n",
    "    This is a function that gives an output similar to the tab function in Stata.\n",
    "    ARGs:\n",
    "    it takes columns of a dataframe as arguments.\n",
    "    '''\n",
    "    \n",
    "    if var2 is None:\n",
    "        print(\"{}|      Freq.     Percent        Cum.\".format(var1.name.rjust(12)))\n",
    "        print(\"------------+-----------------------------------\")\n",
    "        temp = pd.DataFrame(var1.value_counts())\n",
    "        temp.reset_index(inplace=True)\n",
    "        temp = temp.sort_values(by=\"index\").reset_index(drop=True)\n",
    "        tots = temp[temp.columns[1]].sum()\n",
    "        temp['percent']=100*(temp[temp.columns[1]]/tots)\n",
    "        temp['cum_percent'] = 100*(temp[temp.columns[1]].cumsum()/tots)\n",
    "        for y in range(0, len(temp)):\n",
    "            print(\"{}|{}{}{}\".format(round(temp.loc[y, temp.columns[0]], 3).astype(str).rjust(12), \\\n",
    "                                    round(temp.loc[y, temp.columns[1]], 3).astype(str).rjust(11), \\\n",
    "                                    round(temp.loc[y, 'percent'], 3).astype(str).rjust(12), \\\n",
    "                                    round(temp.loc[y, 'cum_percent'], 3).astype(str).rjust(12)))\n",
    "        print(\"------------+-----------------------------------\")\n",
    "        print(\"      Total |{}      100.00\".format(tots.astype(str).rjust(11)))\n",
    "    else:\n",
    "        assert len(var1)==len(var2), \"Columns are not of the same length, check if they belong to the same dataframe\"\n",
    "        dict1 = {var1.name: var1, var2.name: var2}\n",
    "        df1 = pd.DataFrame(dict1, columns=[var1.name, var2.name])\n",
    "        number = len(var2.value_counts())\n",
    "        temp1= pd.DataFrame(var1.value_counts())\n",
    "        temp1.reset_index(inplace=True)\n",
    "        temp1 = temp1.sort_values(by=\"index\").reset_index(drop=True)\n",
    "        temp2= pd.DataFrame(var2.value_counts())        \n",
    "        temp2.reset_index(inplace=True)\n",
    "        temp2 = temp2.sort_values(by=\"index\").reset_index(drop=True)\n",
    "        print(\"             |{}\".format(var2.name.rjust(round(len(var2.value_counts())*12/2))))\n",
    "        string1 = str('{} |'.format(var1.name.rjust(12)))\n",
    "        for i in range(number):\n",
    "            string1+='{}'.format(temp2.loc[i, 'index'].astype(str).rjust(12))\n",
    "        string1+= str('|     Total')\n",
    "        print(string1)\n",
    "        print('-------------+------------------------+----------')\n",
    "        for j in range(len(temp1)):\n",
    "            string2 = str('{} |'.format(round(temp1.loc[j, 'index'], 3).astype(str).rjust(12)))\n",
    "            num2 = 0\n",
    "            for i in range(number):\n",
    "                num1 = df1.loc[(df1[var1.name]==temp1.loc[j, 'index']) \\\n",
    "                                             & (df1[var2.name]==temp2.loc[i, 'index']), \\\n",
    "                                             var1.name].count()\n",
    "                string2+='{}'.format(num1.astype(str).rjust(12))\n",
    "                num2 +=num1\n",
    "            string2 += '|{}'.format(num2.astype(str).rjust(10))\n",
    "            print(string2)\n",
    "        print('-------------+------------------------+----------')\n",
    "        string3 = str('       Total |')\n",
    "        for i in range(number):\n",
    "            string3 +='{}'.format(temp2.loc[i, var2.name].astype(str).rjust(12))\n",
    "        string3 +='|{}'.format(var2.count().astype(str).rjust(10))\n",
    "        print(string3)\n",
    "    "
   ]
  },
  {
   "cell_type": "code",
   "execution_count": 11,
   "id": "bbb32fd8",
   "metadata": {},
   "outputs": [
    {
     "name": "stdout",
     "output_type": "stream",
     "text": [
      "             |      Female\n",
      "      Health |           0           1|     Total\n",
      "-------------+------------------------+----------\n",
      "         1.0 |        2052        2597|      4649\n",
      "       1.333 |         404         279|       683\n",
      "       1.667 |         909        1038|      1947\n",
      "         2.0 |        2196        3742|      5938\n",
      "       2.333 |        1752        1896|      3648\n",
      "       2.667 |        2466        3223|      5689\n",
      "         3.0 |        7074       10607|     17681\n",
      "       3.333 |        2500        2434|      4934\n",
      "       3.667 |        2160        2491|      4651\n",
      "         4.0 |        5045        4902|      9947\n",
      "-------------+------------------------+----------\n",
      "       Total |       26581       33226|     59807\n"
     ]
    }
   ],
   "source": [
    "tab(df[\"Health\"], df[\"Female\"])"
   ]
  },
  {
   "cell_type": "code",
   "execution_count": 12,
   "id": "0dad9e79",
   "metadata": {},
   "outputs": [
    {
     "data": {
      "text/plain": [
       "33226"
      ]
     },
     "execution_count": 12,
     "metadata": {},
     "output_type": "execute_result"
    }
   ],
   "source": [
    "df.loc[df[\"Female\"]==1, \"Year\"].count()"
   ]
  },
  {
   "cell_type": "code",
   "execution_count": 13,
   "id": "cf18edb7",
   "metadata": {},
   "outputs": [
    {
     "name": "stdout",
     "output_type": "stream",
     "text": [
      "      Health|      Freq.     Percent        Cum.\n",
      "------------+-----------------------------------\n",
      "         1.0|       4649       7.779       7.779\n",
      "       1.333|        683       1.143       8.921\n",
      "       1.667|       1947       3.258      12.179\n",
      "         2.0|       5938       9.935      22.114\n",
      "       2.333|       3648       6.104      28.218\n",
      "       2.667|       5689       9.519      37.737\n",
      "         3.0|      17681      29.583       67.32\n",
      "       3.333|       4934       8.255      75.575\n",
      "       3.667|       4651       7.782      83.357\n",
      "         4.0|       9947      16.643       100.0\n",
      "------------+-----------------------------------\n",
      "      Total |      59767      100.00\n"
     ]
    }
   ],
   "source": [
    "tab(df['Health'])"
   ]
  },
  {
   "cell_type": "code",
   "execution_count": null,
   "id": "d74d60cf",
   "metadata": {},
   "outputs": [],
   "source": []
  }
 ],
 "metadata": {
  "@webio": {
   "lastCommId": null,
   "lastKernelId": null
  },
  "kernelspec": {
   "display_name": "Python 3",
   "language": "python",
   "name": "python3"
  },
  "language_info": {
   "codemirror_mode": {
    "name": "ipython",
    "version": 3
   },
   "file_extension": ".py",
   "mimetype": "text/x-python",
   "name": "python",
   "nbconvert_exporter": "python",
   "pygments_lexer": "ipython3",
   "version": "3.8.8"
  }
 },
 "nbformat": 4,
 "nbformat_minor": 5
}
