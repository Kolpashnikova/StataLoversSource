{
 "cells": [
  {
   "cell_type": "code",
   "execution_count": 1,
   "id": "58db9300",
   "metadata": {},
   "outputs": [],
   "source": [
    "import StataLovers"
   ]
  },
  {
   "cell_type": "code",
   "execution_count": 2,
   "id": "d0885dee",
   "metadata": {},
   "outputs": [
    {
     "name": "stderr",
     "output_type": "stream",
     "text": [
      "/Users/kamilakolpashnikova/opt/anaconda3/lib/python3.8/site-packages/pandas/io/stata.py:1417: UnicodeWarning: \n",
      "One or more strings in the dta file could not be decoded using utf-8, and\n",
      "so the fallback encoding of latin-1 is being used.  This can happen when a file\n",
      "has been incorrectly encoded by Stata or some other software. You should verify\n",
      "the string values returned are correct.\n",
      "  warnings.warn(msg, UnicodeWarning)\n"
     ]
    }
   ],
   "source": [
    "import pandas as pd\n",
    "df = pd.read_stata(\"/Users/kamilakolpashnikova/OneDrive - Nexus365/Data files/ELSA/UKDA-5050-stata/stata/ELSA3to8.dta\")"
   ]
  },
  {
   "cell_type": "code",
   "execution_count": 3,
   "id": "79abc407",
   "metadata": {},
   "outputs": [
    {
     "name": "stdout",
     "output_type": "stream",
     "text": [
      "             |      Female\n",
      "      Health |           0           1|     Total\n",
      "-------------+------------------------+----------\n",
      "         1.0 |        2052        2597|      4649\n",
      "       1.333 |         404         279|       683\n",
      "       1.667 |         909        1038|      1947\n",
      "         2.0 |        2196        3742|      5938\n",
      "       2.333 |        1752        1896|      3648\n",
      "       2.667 |        2466        3223|      5689\n",
      "         3.0 |        7074       10607|     17681\n",
      "       3.333 |        2500        2434|      4934\n",
      "       3.667 |        2160        2491|      4651\n",
      "         4.0 |        5045        4902|      9947\n",
      "-------------+------------------------+----------\n",
      "       Total |       26581       33226|     59807\n"
     ]
    }
   ],
   "source": [
    "StataLovers.tab(df[\"Health\"], df[\"Female\"])"
   ]
  },
  {
   "cell_type": "code",
   "execution_count": 4,
   "id": "cac94731",
   "metadata": {},
   "outputs": [
    {
     "name": "stdout",
     "output_type": "stream",
     "text": [
      "      Female|      Freq.     Percent        Cum.\n",
      "------------+-----------------------------------\n",
      "           0|      26581      44.445      44.445\n",
      "           1|      33226      55.555       100.0\n",
      "------------+-----------------------------------\n",
      "      Total |      59807      100.00\n"
     ]
    }
   ],
   "source": [
    "StataLovers.tab(df[\"Female\"])"
   ]
  },
  {
   "cell_type": "code",
   "execution_count": 5,
   "id": "3d1132fe",
   "metadata": {},
   "outputs": [
    {
     "name": "stdout",
     "output_type": "stream",
     "text": [
      "     Variable |        Obs        Mean    Std. Dev.       Min        Max \n",
      "--------------+----------------------------------------------------------\n",
      "    BirthYear |    59807.0    1913.154      245.723       -8.0     1987.0\n",
      "         Year |    59807.0    2011.708        3.404     2006.0     2017.0\n",
      "      Married |    59807.0       0.717        0.451        0.0        1.0\n",
      "       Health |    59767.0       2.856        0.853        1.0        4.0\n"
     ]
    }
   ],
   "source": [
    "StataLovers.summarize([\"BirthYear\", \"Year\", \"Married\", \"Health\"], df)"
   ]
  }
 ],
 "metadata": {
  "@webio": {
   "lastCommId": null,
   "lastKernelId": null
  },
  "kernelspec": {
   "display_name": "Python 3",
   "language": "python",
   "name": "python3"
  },
  "language_info": {
   "codemirror_mode": {
    "name": "ipython",
    "version": 3
   },
   "file_extension": ".py",
   "mimetype": "text/x-python",
   "name": "python",
   "nbconvert_exporter": "python",
   "pygments_lexer": "ipython3",
   "version": "3.8.8"
  }
 },
 "nbformat": 4,
 "nbformat_minor": 5
}
